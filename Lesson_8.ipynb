{
  "nbformat": 4,
  "nbformat_minor": 0,
  "metadata": {
    "colab": {
      "provenance": [],
      "authorship_tag": "ABX9TyObBR5JbUxMvyEo/QZRt/wl"
    },
    "kernelspec": {
      "name": "python3",
      "display_name": "Python 3"
    },
    "language_info": {
      "name": "python"
    }
  },
  "cells": [
    {
      "cell_type": "code",
      "execution_count": 6,
      "metadata": {
        "colab": {
          "base_uri": "https://localhost:8080/"
        },
        "id": "MjLF5lmyvhtj",
        "outputId": "17940c56-7a1b-47cb-e3e3-6c14be9e052e"
      },
      "outputs": [
        {
          "output_type": "stream",
          "name": "stdout",
          "text": [
            "Отвергаем нулевую гипотезу в однофакторном дисперсионном анализе, различия в среднем росте есть.\n",
            "Отвергаем нулевую гипотезу в двухфакторном дисперсионном анализе, различия в среднем росте есть.\n"
          ]
        }
      ],
      "source": [
        "# Задание 1\n",
        "\n",
        "from scipy.stats import f_oneway\n",
        "\n",
        "football_players = [173, 175, 180, 178, 177, 185, 183, 182]\n",
        "hockey_players = [177, 179, 180, 188, 177, 172, 171, 184, 180]\n",
        "weightlifters = [172, 173, 169, 177, 166, 180, 178, 177, 172, 166, 170]\n",
        "\n",
        "# Однофакторный дисперсионный анализ\n",
        "f_value, p_value = f_oneway(football_players, hockey_players, weightlifters)\n",
        "\n",
        "alpha = 0.05\n",
        "\n",
        "if p_value < alpha:\n",
        "    print(\"Отвергаем нулевую гипотезу в однофакторном дисперсионном анализе, различия в среднем росте есть.\")\n",
        "else:\n",
        "    print(\"Не отвергаем нулевую гипотезу в однофакторном дисперсионном анализе, различия в среднем росте отсутствуют.\")\n",
        "\n",
        "# Двухфакторный дисперсионный анализ\n",
        "data = [\n",
        "    football_players,\n",
        "    hockey_players,\n",
        "    weightlifters\n",
        "]\n",
        "\n",
        "f_value, p_value = f_oneway(*data)\n",
        "\n",
        "if p_value < alpha:\n",
        "    print(\"Отвергаем нулевую гипотезу в двухфакторном дисперсионном анализе, различия в среднем росте есть.\")\n",
        "else:\n",
        "    print(\"Не отвергаем нулевую гипотезу в двухфакторном дисперсионном анализе, различия в среднем росте отсутствуют.\")"
      ]
    }
  ]
}